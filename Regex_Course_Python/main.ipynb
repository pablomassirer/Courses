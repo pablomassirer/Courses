{
 "cells": [
  {
   "cell_type": "markdown",
   "metadata": {},
   "source": [
    "### Regex"
   ]
  },
  {
   "cell_type": "markdown",
   "metadata": {},
   "source": [
    "> Example 1 to to find patterns"
   ]
  },
  {
   "cell_type": "code",
   "execution_count": 9,
   "metadata": {},
   "outputs": [
    {
     "name": "stdout",
     "output_type": "stream",
     "text": [
      "finditer:  <re.Match object; span=(3, 6), match='abc'>\n",
      "finditer:  <re.Match object; span=(12, 15), match='abc'>\n",
      "match:  <re.Match object; span=(12, 15), match='abc'>\n",
      "findall:  abc\n",
      "findall:  abc\n"
     ]
    }
   ],
   "source": [
    "import re\n",
    "\n",
    "test_string = '123abc456789abc123ABC'\n",
    "\n",
    "pattern = re.compile(r\"abc\")\n",
    "\n",
    "# finditter\n",
    "matches = pattern.finditer(test_string)\n",
    "for match in matches:\n",
    "    print('finditer: ', match)\n",
    "\n",
    "# match\n",
    "matches = pattern.match(test_string)\n",
    "print(\"match: \", match)\n",
    "\n",
    "# findall\n",
    "matches = pattern.findall(test_string)\n",
    "for match in matches:\n",
    "    print(\"findall: \", match)"
   ]
  },
  {
   "cell_type": "markdown",
   "metadata": {},
   "source": [
    "> Note: r\"\" ->  raw string"
   ]
  }
 ],
 "metadata": {
  "kernelspec": {
   "display_name": "Python 3.10.5 64-bit",
   "language": "python",
   "name": "python3"
  },
  "language_info": {
   "codemirror_mode": {
    "name": "ipython",
    "version": 3
   },
   "file_extension": ".py",
   "mimetype": "text/x-python",
   "name": "python",
   "nbconvert_exporter": "python",
   "pygments_lexer": "ipython3",
   "version": "3.10.5"
  },
  "orig_nbformat": 4,
  "vscode": {
   "interpreter": {
    "hash": "bb63a77499ed5899fffa71b49f0fc3f4df2c625891c3993c985b13a523c87e61"
   }
  }
 },
 "nbformat": 4,
 "nbformat_minor": 2
}
