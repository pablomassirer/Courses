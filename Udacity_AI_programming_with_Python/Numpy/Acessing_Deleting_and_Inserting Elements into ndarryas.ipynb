{
 "cells": [
  {
   "cell_type": "markdown",
   "source": [
    "# Numpy"
   ],
   "metadata": {}
  },
  {
   "cell_type": "code",
   "execution_count": 1,
   "source": [
    "import numpy as np"
   ],
   "outputs": [],
   "metadata": {}
  },
  {
   "cell_type": "markdown",
   "source": [
    "## Example 1. Access individual elements of 1-D array"
   ],
   "metadata": {}
  },
  {
   "cell_type": "code",
   "execution_count": 5,
   "source": [
    "x = np.array([1, 2, 3, 4, 5])\n",
    "print(x)\n",
    "\n",
    "print(\"\\n1st element:\", x[0])\n",
    "print(\"1st element again:\", x[-5])\n",
    "print(\"2nd element:\", x[1])\n",
    "print(\"2nd element again:\", x[-4])\n",
    "print(\"5th element:\", x[4])\n",
    "print(\"5th element again:\", x[-1])"
   ],
   "outputs": [
    {
     "output_type": "stream",
     "name": "stdout",
     "text": [
      "[1 2 3 4 5]\n",
      "\n",
      "1st element: 1\n",
      "1st element again: 1\n",
      "2nd element: 2\n",
      "2nd element again: 2\n",
      "5th element: 5\n",
      "5th element again: 5\n"
     ]
    }
   ],
   "metadata": {}
  },
  {
   "cell_type": "markdown",
   "source": [
    "## Example 2. Modify an element of 2-D array"
   ],
   "metadata": {}
  },
  {
   "cell_type": "code",
   "execution_count": 16,
   "source": [
    "print('Original')\n",
    "x = np.arange(1, 10).reshape(3, 3)\n",
    "print(x)\n",
    "print('\\n')\n",
    "\n",
    "print('Element at (0, 0):', x[0, 0])\n",
    "print('Element at (0, 1):', x[0, 1])\n",
    "print('Element at (2, 2):', x[2, 2])\n",
    "\n",
    "print('\\n')\n",
    "\n",
    "# Changing the element in the position (0, 0)\n",
    "print('Modified')\n",
    "x[0, 0] = 20\n",
    "print(x)"
   ],
   "outputs": [
    {
     "output_type": "stream",
     "name": "stdout",
     "text": [
      "Original\n",
      "[[1 2 3]\n",
      " [4 5 6]\n",
      " [7 8 9]]\n",
      "\n",
      "\n",
      "Element at (0, 0): 1\n",
      "Element at (0, 1): 2\n",
      "Element at (2, 2): 9\n",
      "\n",
      "\n",
      "Modified\n",
      "[[20  2  3]\n",
      " [ 4  5  6]\n",
      " [ 7  8  9]]\n"
     ]
    }
   ],
   "metadata": {}
  },
  {
   "cell_type": "markdown",
   "source": [
    "## Example 3. Delete elements"
   ],
   "metadata": {}
  },
  {
   "cell_type": "code",
   "execution_count": 19,
   "source": [
    "print('Before deletion: ', end='')\n",
    "x = np.array([0, 1, 2, 3, 4, 5])\n",
    "print(x)\n",
    "\n",
    "# Deletes the informed positions\n",
    "print('After deletion: ', end='')\n",
    "x = np.delete(x, [0, 4])\n",
    "print(x)"
   ],
   "outputs": [
    {
     "output_type": "stream",
     "name": "stdout",
     "text": [
      "Before deletion: [0 1 2 3 4 5]\n",
      "After deletion: [1 2 3 5]\n"
     ]
    }
   ],
   "metadata": {}
  },
  {
   "cell_type": "code",
   "execution_count": 20,
   "source": [
    "Y =  np.arange(1, 10).reshape(3, 3)\n",
    "print(Y)\n",
    "\n",
    "W = np.delete(Y, 0, axis=0)\n",
    "print('\\n', W)\n",
    "\n",
    "V = np.delete(Y, [0, 2], axis=1)\n",
    "print('\\n', V)"
   ],
   "outputs": [
    {
     "output_type": "stream",
     "name": "stdout",
     "text": [
      "[[1 2 3]\n",
      " [4 5 6]\n",
      " [7 8 9]]\n",
      "\n",
      " [[4 5 6]\n",
      " [7 8 9]]\n",
      "\n",
      " [[2]\n",
      " [5]\n",
      " [8]]\n"
     ]
    }
   ],
   "metadata": {}
  },
  {
   "cell_type": "markdown",
   "source": [
    "## Example 6. Append elements"
   ],
   "metadata": {}
  },
  {
   "cell_type": "code",
   "execution_count": 27,
   "source": [
    "x = np.array([1, 2, 3, 4, 5])\n",
    "x = np.append(x, [6, 7, 8])\n",
    "print(x)\n",
    "\n",
    "Y = np.arange(1, 10).reshape(3, 3)\n",
    "print('\\n', Y)\n",
    "\n",
    "W = np.append(Y, [[10, 11, 12]], axis=0)\n",
    "print('\\n', W)"
   ],
   "outputs": [
    {
     "output_type": "stream",
     "name": "stdout",
     "text": [
      "[1 2 3 4 5 6 7 8]\n",
      "\n",
      " [[1 2 3]\n",
      " [4 5 6]\n",
      " [7 8 9]]\n",
      "\n",
      " [[ 1  2  3]\n",
      " [ 4  5  6]\n",
      " [ 7  8  9]\n",
      " [10 11 12]]\n"
     ]
    }
   ],
   "metadata": {}
  },
  {
   "cell_type": "markdown",
   "source": [
    "## Example 7. Insert elements"
   ],
   "metadata": {}
  },
  {
   "cell_type": "code",
   "execution_count": 45,
   "source": [
    "x = np.array([1, 2])\n",
    "x = np.insert(x, 2, [3, 4])\n",
    "print(x)\n",
    "\n",
    "Y = np.array([[1, 2, 3], [7, 8, 9]])\n",
    "print('\\n', Y)\n",
    "\n",
    "W = np.insert(Y, 1, [4, 5 ,6], axis=0)\n",
    "print('\\n', W)\n",
    "\n",
    "V = np.insert(Y, 1, 5, axis=1)\n",
    "print('\\n', V)\n",
    "\n",
    "x = np.append(x, [5, 6])\n",
    "print('\\n', x)"
   ],
   "outputs": [
    {
     "output_type": "stream",
     "name": "stdout",
     "text": [
      "[1 2 3 4]\n",
      "\n",
      " [[1 2 3]\n",
      " [7 8 9]]\n",
      "\n",
      " [[1 2 3]\n",
      " [4 5 6]\n",
      " [7 8 9]]\n",
      "\n",
      " [[1 5 2 3]\n",
      " [7 5 8 9]]\n",
      "1\n",
      "\n",
      " [1 2 3 4 5 6]\n"
     ]
    }
   ],
   "metadata": {}
  },
  {
   "cell_type": "markdown",
   "source": [
    "## Example 8. Stack arrays"
   ],
   "metadata": {}
  },
  {
   "cell_type": "code",
   "execution_count": 52,
   "source": [
    "x = np.array([1, 2])\n",
    "print(x)\n",
    "\n",
    "Y = np.array([[3, 4], [5, 6]])\n",
    "print('\\n', Y)\n",
    "\n",
    "z = np.vstack((x, Y))\n",
    "print('\\n', z)\n",
    "\n",
    "w = np.hstack((Y, x.reshape(2, 1)))\n",
    "print('\\n', w)"
   ],
   "outputs": [
    {
     "output_type": "stream",
     "name": "stdout",
     "text": [
      "[1 2]\n",
      "\n",
      " [[3 4]\n",
      " [5 6]]\n",
      "\n",
      " [[1 2]\n",
      " [3 4]\n",
      " [5 6]]\n",
      "\n",
      " [[3 4 1]\n",
      " [5 6 2]]\n"
     ]
    }
   ],
   "metadata": {}
  }
 ],
 "metadata": {
  "orig_nbformat": 4,
  "language_info": {
   "name": "python",
   "version": "3.9.7",
   "mimetype": "text/x-python",
   "codemirror_mode": {
    "name": "ipython",
    "version": 3
   },
   "pygments_lexer": "ipython3",
   "nbconvert_exporter": "python",
   "file_extension": ".py"
  },
  "kernelspec": {
   "name": "python3",
   "display_name": "Python 3.9.7 64-bit ('py3_env': conda)"
  },
  "interpreter": {
   "hash": "6e619cf9ed8fbc59bbc55f5a61c96f81b585c7fe11f424ed088e0267815bc047"
  }
 },
 "nbformat": 4,
 "nbformat_minor": 2
}