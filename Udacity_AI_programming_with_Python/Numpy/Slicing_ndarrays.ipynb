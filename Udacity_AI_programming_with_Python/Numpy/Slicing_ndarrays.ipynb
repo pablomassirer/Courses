{
 "cells": [
  {
   "cell_type": "markdown",
   "source": [
    "# Numpy"
   ],
   "metadata": {}
  },
  {
   "cell_type": "code",
   "execution_count": 1,
   "source": [
    "import numpy as np"
   ],
   "outputs": [],
   "metadata": {}
  },
  {
   "cell_type": "code",
   "execution_count": 51,
   "source": [
    "print('Base Array')\n",
    "x = np.arange(1, 21).reshape(4, 5)\n",
    "print(x)"
   ],
   "outputs": [
    {
     "output_type": "stream",
     "name": "stdout",
     "text": [
      "Base Array\n",
      "[[ 1  2  3  4  5]\n",
      " [ 6  7  8  9 10]\n",
      " [11 12 13 14 15]\n",
      " [16 17 18 19 20]]\n"
     ]
    }
   ],
   "metadata": {}
  },
  {
   "cell_type": "markdown",
   "source": [
    "## Example 1. Slicing "
   ],
   "metadata": {}
  },
  {
   "cell_type": "code",
   "execution_count": 56,
   "source": [
    "print(\"Original\")\n",
    "print(x)\n",
    "print(\"\\nModified\")\n",
    "z = x[1:4, 2:5]\n",
    "print(z, '\\n')\n",
    "print(\"OR\\n\")\n",
    "y = x[1:, 2:]\n",
    "print(y)"
   ],
   "outputs": [
    {
     "output_type": "stream",
     "name": "stdout",
     "text": [
      "Original\n",
      "[[ 1  2  3  4  5]\n",
      " [ 6  7  8  9 10]\n",
      " [11 12 13 14 15]\n",
      " [16 17 18 19 20]]\n",
      "\n",
      "Modified\n",
      "[[ 8  9 10]\n",
      " [13 14 15]\n",
      " [18 19 20]] \n",
      "\n",
      "OR\n",
      "\n",
      "[[ 8  9 10]\n",
      " [13 14 15]\n",
      " [18 19 20]]\n"
     ]
    }
   ],
   "metadata": {}
  },
  {
   "cell_type": "code",
   "execution_count": 57,
   "source": [
    "print(\"Original\")\n",
    "print(x)\n",
    "\n",
    "print(\"\\nModified\")\n",
    "# Rank 1 array\n",
    "z = x[:, 2]\n",
    "print(z, '\\n')\n",
    "\n",
    "# Rank 2 array\n",
    "z = x[:, 2:3]\n",
    "print(z)"
   ],
   "outputs": [
    {
     "output_type": "stream",
     "name": "stdout",
     "text": [
      "Original\n",
      "[[ 1  2  3  4  5]\n",
      " [ 6  7  8  9 10]\n",
      " [11 12 13 14 15]\n",
      " [16 17 18 19 20]]\n",
      "\n",
      "Modified\n",
      "[ 3  8 13 18] \n",
      "\n",
      "[[ 3]\n",
      " [ 8]\n",
      " [13]\n",
      " [18]]\n"
     ]
    }
   ],
   "metadata": {}
  },
  {
   "cell_type": "markdown",
   "source": [
    "## Example 2. Slicing and editing elements"
   ],
   "metadata": {}
  },
  {
   "cell_type": "code",
   "execution_count": 19,
   "source": [
    "print(\"Original\")\n",
    "print(x)\n",
    "\n",
    "print(\"\\nModified\")\n",
    "z = x[1:, 2:]\n",
    "print(z)"
   ],
   "outputs": [
    {
     "output_type": "stream",
     "name": "stdout",
     "text": [
      "[[ 8  9 10]\n",
      " [13 14 15]\n",
      " [18 19 20]]\n"
     ]
    }
   ],
   "metadata": {}
  },
  {
   "cell_type": "code",
   "execution_count": 22,
   "source": [
    "print(\"Original\")\n",
    "print(z)\n",
    "\n",
    "print(\"\\nModified\")\n",
    "z[2, 2] = 555\n",
    "print(z, '\\n')\n",
    "\n",
    "print(x)"
   ],
   "outputs": [
    {
     "output_type": "stream",
     "name": "stdout",
     "text": [
      "[[  8   9  10]\n",
      " [ 13  14  15]\n",
      " [ 18  19 555]] \n",
      "\n",
      "[[  1   2   3   4   5]\n",
      " [  6   7   8   9  10]\n",
      " [ 11  12  13  14  15]\n",
      " [ 16  17  18  19 555]]\n"
     ]
    }
   ],
   "metadata": {}
  },
  {
   "cell_type": "markdown",
   "source": [
    "## Example 3. Demonstrate the copy() function"
   ],
   "metadata": {}
  },
  {
   "cell_type": "code",
   "execution_count": 60,
   "source": [
    "print(\"Original\")\n",
    "X = np.arange(20).reshape(4, 5)\n",
    "print(X, '\\n')\n",
    "\n",
    "print(\"Copy of original sliced\")\n",
    "z = X[1:, 2:].copy()\n",
    "print(z, '\\n')\n",
    "\n",
    "z[2, 2] = 555\n",
    "print(\"Modified\")\n",
    "print(z, '\\n')\n",
    "\n",
    "print(\"Original\")\n",
    "print(X)"
   ],
   "outputs": [
    {
     "output_type": "stream",
     "name": "stdout",
     "text": [
      "Original\n",
      "[[ 0  1  2  3  4]\n",
      " [ 5  6  7  8  9]\n",
      " [10 11 12 13 14]\n",
      " [15 16 17 18 19]] \n",
      "\n",
      "Copy of original sliced\n",
      "[[ 7  8  9]\n",
      " [12 13 14]\n",
      " [17 18 19]] \n",
      "\n",
      "Modified\n",
      "[[  7   8   9]\n",
      " [ 12  13  14]\n",
      " [ 17  18 555]] \n",
      "\n",
      "Original\n",
      "[[ 0  1  2  3  4]\n",
      " [ 5  6  7  8  9]\n",
      " [10 11 12 13 14]\n",
      " [15 16 17 18 19]]\n"
     ]
    }
   ],
   "metadata": {}
  },
  {
   "cell_type": "markdown",
   "source": [
    "## Example 4 a. Use an array as indices to either make slices, select, or change elements"
   ],
   "metadata": {}
  },
  {
   "cell_type": "code",
   "execution_count": 61,
   "source": [
    "print(\"Indices\")\n",
    "indices = np.array([1, 3])\n",
    "print(indices, '\\n')\n",
    "\n",
    "print(\"Sliced by indices\")\n",
    "y = X[indices,:]\n",
    "print(y, '\\n')\n",
    "\n",
    "z = X[:, indices]\n",
    "print(z)"
   ],
   "outputs": [
    {
     "output_type": "stream",
     "name": "stdout",
     "text": [
      "Indices\n",
      "[1 3] \n",
      "\n",
      "Sliced by indices\n",
      "[[ 5  6  7  8  9]\n",
      " [15 16 17 18 19]] \n",
      "\n",
      "[[ 1  3]\n",
      " [ 6  8]\n",
      " [11 13]\n",
      " [16 18]]\n"
     ]
    }
   ],
   "metadata": {}
  },
  {
   "cell_type": "markdown",
   "source": [
    "## Example 5. Demonstrate the diag() function"
   ],
   "metadata": {}
  },
  {
   "cell_type": "code",
   "execution_count": 62,
   "source": [
    "print(\"Original\")\n",
    "print(X, '\\n')\n",
    "\n",
    "print(\"Collected\")\n",
    "z = np.diag(X)\n",
    "print(z, '\\n')\n",
    "\n",
    "# Elements above the diagonal\n",
    "print(\"Above the diagonal\")\n",
    "z = np.diag(X, k=1)\n",
    "print(z, '\\n')\n",
    "\n",
    "# Elements under the diagonal\n",
    "print(\"Under the diagonal\")\n",
    "z = np.diag(X, k=-1)\n",
    "print(z)"
   ],
   "outputs": [
    {
     "output_type": "stream",
     "name": "stdout",
     "text": [
      "Original\n",
      "[[ 0  1  2  3  4]\n",
      " [ 5  6  7  8  9]\n",
      " [10 11 12 13 14]\n",
      " [15 16 17 18 19]] \n",
      "\n",
      "Collected\n",
      "[ 0  6 12 18] \n",
      "\n",
      "Above the diagonal\n",
      "[ 1  7 13 19] \n",
      "\n",
      "Under the diagonal\n",
      "[ 5 11 17]\n"
     ]
    }
   ],
   "metadata": {}
  },
  {
   "cell_type": "markdown",
   "source": [
    "## Example 6. Demonstrate the unique() function"
   ],
   "metadata": {}
  },
  {
   "cell_type": "code",
   "execution_count": 63,
   "source": [
    "print(\"Original\")\n",
    "X = np.array([[1, 2, 3], [5, 2, 8], [1, 2, 3]])\n",
    "print(X, '\\n')\n",
    "\n",
    "print(\"With unique values\")\n",
    "print(np.unique(X))"
   ],
   "outputs": [
    {
     "output_type": "stream",
     "name": "stdout",
     "text": [
      "Original\n",
      "[[1 2 3]\n",
      " [5 2 8]\n",
      " [1 2 3]] \n",
      "\n",
      "With unique values\n",
      "[1 2 3 5 8]\n"
     ]
    }
   ],
   "metadata": {}
  }
 ],
 "metadata": {
  "orig_nbformat": 4,
  "language_info": {
   "name": "python",
   "version": "3.9.7",
   "mimetype": "text/x-python",
   "codemirror_mode": {
    "name": "ipython",
    "version": 3
   },
   "pygments_lexer": "ipython3",
   "nbconvert_exporter": "python",
   "file_extension": ".py"
  },
  "kernelspec": {
   "name": "python3",
   "display_name": "Python 3.9.7 64-bit ('py3_env': conda)"
  },
  "interpreter": {
   "hash": "6e619cf9ed8fbc59bbc55f5a61c96f81b585c7fe11f424ed088e0267815bc047"
  }
 },
 "nbformat": 4,
 "nbformat_minor": 2
}