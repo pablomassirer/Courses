{
 "cells": [
  {
   "cell_type": "markdown",
   "source": [
    "# Creating Numpy Arrays 2"
   ],
   "metadata": {}
  },
  {
   "cell_type": "code",
   "execution_count": 1,
   "source": [
    "import numpy as np"
   ],
   "outputs": [],
   "metadata": {}
  },
  {
   "cell_type": "markdown",
   "source": [],
   "metadata": {}
  }
 ],
 "metadata": {
  "orig_nbformat": 4,
  "language_info": {
   "name": "python",
   "version": "3.9.7",
   "mimetype": "text/x-python",
   "codemirror_mode": {
    "name": "ipython",
    "version": 3
   },
   "pygments_lexer": "ipython3",
   "nbconvert_exporter": "python",
   "file_extension": ".py"
  },
  "kernelspec": {
   "name": "python3",
   "display_name": "Python 3.9.7 64-bit ('py3_env': conda)"
  },
  "interpreter": {
   "hash": "6e619cf9ed8fbc59bbc55f5a61c96f81b585c7fe11f424ed088e0267815bc047"
  }
 },
 "nbformat": 4,
 "nbformat_minor": 2
}