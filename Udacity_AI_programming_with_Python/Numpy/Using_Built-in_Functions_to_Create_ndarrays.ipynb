{
 "cells": [
  {
   "cell_type": "markdown",
   "source": [
    "# Creating Numpy Arrays 2"
   ],
   "metadata": {}
  },
  {
   "cell_type": "code",
   "execution_count": 2,
   "source": [
    "import numpy as np"
   ],
   "outputs": [],
   "metadata": {}
  },
  {
   "cell_type": "markdown",
   "source": [
    "## Example 1. Create a Numpy array of zeros with a desired shape"
   ],
   "metadata": {}
  },
  {
   "cell_type": "code",
   "execution_count": 3,
   "source": [
    "x = np.zeros((3, 4), dtype=int)\n",
    "print(x)"
   ],
   "outputs": [
    {
     "output_type": "stream",
     "name": "stdout",
     "text": [
      "[[0 0 0 0]\n",
      " [0 0 0 0]\n",
      " [0 0 0 0]]\n"
     ]
    }
   ],
   "metadata": {}
  },
  {
   "cell_type": "markdown",
   "source": [
    "## Example 2 Create a Numpy array of ones with a desired shape"
   ],
   "metadata": {}
  },
  {
   "cell_type": "code",
   "execution_count": 4,
   "source": [
    "x = np.ones((4, 5), dtype=int)\n",
    "print(x)"
   ],
   "outputs": [
    {
     "output_type": "stream",
     "name": "stdout",
     "text": [
      "[[1 1 1 1 1]\n",
      " [1 1 1 1 1]\n",
      " [1 1 1 1 1]\n",
      " [1 1 1 1 1]]\n"
     ]
    }
   ],
   "metadata": {}
  },
  {
   "cell_type": "markdown",
   "source": [
    "## Example 3. Create a Numpy array of constants"
   ],
   "metadata": {}
  },
  {
   "cell_type": "code",
   "execution_count": 13,
   "source": [
    "x = np.full((4, 3), 5, dtype=int)\n",
    "\n",
    "print(x)\n",
    "print(\"\\nDtype:\", x.dtype)"
   ],
   "outputs": [
    {
     "output_type": "stream",
     "name": "stdout",
     "text": [
      "[[5 5 5]\n",
      " [5 5 5]\n",
      " [5 5 5]\n",
      " [5 5 5]]\n",
      "\n",
      "Dtype: int64\n"
     ]
    }
   ],
   "metadata": {}
  },
  {
   "cell_type": "markdown",
   "source": [
    "## Exemple 4.a. Create a Numpy array of an Identity matrix"
   ],
   "metadata": {}
  },
  {
   "cell_type": "code",
   "execution_count": 17,
   "source": [
    "x = np.eye(5)\n",
    "\n",
    "print(x)"
   ],
   "outputs": [
    {
     "output_type": "stream",
     "name": "stdout",
     "text": [
      "[[1. 0. 0. 0. 0.]\n",
      " [0. 1. 0. 0. 0.]\n",
      " [0. 0. 1. 0. 0.]\n",
      " [0. 0. 0. 1. 0.]\n",
      " [0. 0. 0. 0. 1.]]\n"
     ]
    }
   ],
   "metadata": {}
  },
  {
   "cell_type": "markdown",
   "source": [
    "## Exemple 4.b. Create a Numpy array of constants"
   ],
   "metadata": {}
  },
  {
   "cell_type": "code",
   "execution_count": 21,
   "source": [
    "x = np.diag((10, 20, 30, 50))\n",
    "\n",
    "print(x)\n",
    "print(\"\\nDtype:\", x.dtype)"
   ],
   "outputs": [
    {
     "output_type": "stream",
     "name": "stdout",
     "text": [
      "[[10  0  0  0]\n",
      " [ 0 20  0  0]\n",
      " [ 0  0 30  0]\n",
      " [ 0  0  0 50]]\n",
      "\n",
      "Dtype: int64\n"
     ]
    }
   ],
   "metadata": {}
  },
  {
   "cell_type": "markdown",
   "source": [
    "## Example 5. Create a Numpy array of evenly spaced values in a given range, using "
   ],
   "metadata": {}
  },
  {
   "cell_type": "code",
   "execution_count": 36,
   "source": [
    "# Case 1: Until reaching the specified argument\n",
    "\n",
    "x = np.arange(10)\n",
    "\n",
    "print(x, \"\\n\")"
   ],
   "outputs": [
    {
     "output_type": "stream",
     "name": "stdout",
     "text": [
      "[0 1 2 3 4 5 6 7 8 9] \n",
      "\n"
     ]
    }
   ],
   "metadata": {}
  },
  {
   "cell_type": "markdown",
   "source": [
    "## Example 6. Create a Numpy array using arange(start_val, stop_val)"
   ],
   "metadata": {}
  },
  {
   "cell_type": "code",
   "execution_count": 35,
   "source": [
    "# Case 2: from starter argument to final one\n",
    "\n",
    "y = np.arange(4, 10)\n",
    "\n",
    "print(y, \"\\n\")"
   ],
   "outputs": [
    {
     "output_type": "stream",
     "name": "stdout",
     "text": [
      "[4 5 6 7 8 9] \n",
      "\n"
     ]
    }
   ],
   "metadata": {}
  },
  {
   "cell_type": "markdown",
   "source": [
    "## Example 7. Create a Numpy array using arange(start_val, stop_val, step_size)"
   ],
   "metadata": {}
  },
  {
   "cell_type": "code",
   "execution_count": 34,
   "source": [
    "xy = np.arange(1, 14, 3)\n",
    "\n",
    "print(xy, \"\\n\")"
   ],
   "outputs": [
    {
     "output_type": "stream",
     "name": "stdout",
     "text": [
      "[ 1  4  7 10 13] \n",
      "\n"
     ]
    }
   ],
   "metadata": {}
  },
  {
   "cell_type": "markdown",
   "source": [
    "## Example 8. Create a Numpy array using linspace(start, stop, n), with stop inclusive."
   ],
   "metadata": {}
  },
  {
   "cell_type": "code",
   "execution_count": 55,
   "source": [
    "print(\"\\n|Example 1|\")\n",
    "x = np.linspace(0, 25, 10)\n",
    "print(x, \"\\n\")\n",
    "\n",
    "print(\"|Example 2|\")\n",
    "x = np.linspace(0, 25, 10, dtype=int)\n",
    "print(x, \"\\n\")"
   ],
   "outputs": [
    {
     "output_type": "stream",
     "name": "stdout",
     "text": [
      "\n",
      "|Example 1|\n",
      "[ 0.          2.77777778  5.55555556  8.33333333 11.11111111 13.88888889\n",
      " 16.66666667 19.44444444 22.22222222 25.        ] \n",
      "\n",
      "|Example 2|\n",
      "[ 0  2  5  8 11 13 16 19 22 25] \n",
      "\n"
     ]
    }
   ],
   "metadata": {}
  },
  {
   "cell_type": "markdown",
   "source": [
    "## Example 9. Create a Numpy array using linspace(start, stop, n), with stop excluded."
   ],
   "metadata": {}
  },
  {
   "cell_type": "code",
   "execution_count": 56,
   "source": [
    "x = np.linspace(0, 25, 10, endpoint=False)\n",
    "print(x, \"\\n\")"
   ],
   "outputs": [
    {
     "output_type": "stream",
     "name": "stdout",
     "text": [
      "[ 0.   2.5  5.   7.5 10.  12.5 15.  17.5 20.  22.5] \n",
      "\n"
     ]
    }
   ],
   "metadata": {}
  },
  {
   "cell_type": "markdown",
   "source": [
    "## Example 10. Create a Numpy array by feeding the output of arange() function as an argument to the reshape() function."
   ],
   "metadata": {}
  },
  {
   "cell_type": "code",
   "execution_count": 52,
   "source": [
    "x = np.arange(1, 20 + 1)\n",
    "\n",
    "x = np.reshape(x, (4, 5))\n",
    "\n",
    "print(x)"
   ],
   "outputs": [
    {
     "output_type": "stream",
     "name": "stdout",
     "text": [
      "[[ 1  2  3  4  5]\n",
      " [ 6  7  8  9 10]\n",
      " [11 12 13 14 15]\n",
      " [16 17 18 19 20]]\n"
     ]
    }
   ],
   "metadata": {}
  },
  {
   "cell_type": "markdown",
   "source": [
    "## Example 11. Create a Numpy array by calling the reshape() function from the output of arange() function."
   ],
   "metadata": {}
  },
  {
   "cell_type": "code",
   "execution_count": 54,
   "source": [
    "x = np.arange(1, 20 + 1).reshape(4,5)\n",
    "\n",
    "print(x)"
   ],
   "outputs": [
    {
     "output_type": "stream",
     "name": "stdout",
     "text": [
      "[[ 1  2  3  4  5]\n",
      " [ 6  7  8  9 10]\n",
      " [11 12 13 14 15]\n",
      " [16 17 18 19 20]]\n"
     ]
    }
   ],
   "metadata": {}
  },
  {
   "cell_type": "markdown",
   "source": [
    "## Example 12. Create a rank 2 Numpy array by using the reshape() function."
   ],
   "metadata": {}
  },
  {
   "cell_type": "code",
   "execution_count": 66,
   "source": [
    "x = np.linspace(0, 50, 10, endpoint=False, dtype=np.float64).reshape(5, 2)\n",
    "\n",
    "print(x)"
   ],
   "outputs": [
    {
     "output_type": "stream",
     "name": "stdout",
     "text": [
      "[[ 0.  5.]\n",
      " [10. 15.]\n",
      " [20. 25.]\n",
      " [30. 35.]\n",
      " [40. 45.]]\n"
     ]
    }
   ],
   "metadata": {}
  },
  {
   "cell_type": "markdown",
   "source": [
    "## Example 13. Create a Numpy array using the numpy.random.random() function."
   ],
   "metadata": {}
  },
  {
   "cell_type": "code",
   "execution_count": 72,
   "source": [
    "x = np.random.random((3, 3))\n",
    "\n",
    "print(x)"
   ],
   "outputs": [
    {
     "output_type": "stream",
     "name": "stdout",
     "text": [
      "[[0.90413935 0.82675785 0.87248006]\n",
      " [0.79543427 0.8934489  0.14684106]\n",
      " [0.55480819 0.74701779 0.74603172]]\n"
     ]
    }
   ],
   "metadata": {}
  },
  {
   "cell_type": "markdown",
   "source": [
    "## Example 14. Create a Numpy array using the numpy.random.randint() function."
   ],
   "metadata": {}
  },
  {
   "cell_type": "code",
   "execution_count": 3,
   "source": [
    "x = np.random.randint(3,  15, (3, 2))\n",
    "\n",
    "print(x)"
   ],
   "outputs": [
    {
     "output_type": "stream",
     "name": "stdout",
     "text": [
      "[[11  7]\n",
      " [ 3  9]\n",
      " [ 7  7]]\n"
     ]
    }
   ],
   "metadata": {}
  },
  {
   "cell_type": "markdown",
   "source": [
    "## Example 15. Create a Numpy array of \"Normal\" distributed random numbers, using the numpy.random.normal() function."
   ],
   "metadata": {}
  },
  {
   "cell_type": "code",
   "execution_count": 69,
   "source": [
    "x = np.random.normal(0, 0.1, size=(1000, 1000))\n",
    "\n",
    "print(x)"
   ],
   "outputs": [
    {
     "output_type": "stream",
     "name": "stdout",
     "text": [
      "[[ 0.01569198 -0.02380714  0.26530344 ...  0.00275869 -0.12832148\n",
      "  -0.02212853]\n",
      " [-0.16827144  0.00103219  0.04388047 ... -0.05905424 -0.11404165\n",
      "   0.10288564]\n",
      " [-0.19154412 -0.14195587  0.09227903 ...  0.07310243  0.16239858\n",
      "  -0.09223799]\n",
      " ...\n",
      " [-0.08366482  0.03359927 -0.01370106 ... -0.06024396  0.01853301\n",
      "  -0.17168303]\n",
      " [-0.05814429  0.09877683  0.09263983 ... -0.09844843  0.18743119\n",
      "  -0.0686262 ]\n",
      " [ 0.02294786  0.02845728  0.05412238 ...  0.05376198  0.01819279\n",
      "   0.03764029]]\n"
     ]
    }
   ],
   "metadata": {}
  },
  {
   "cell_type": "code",
   "execution_count": 70,
   "source": [
    "print('mean:', x.mean())\n",
    "print('std:', x.std())\n",
    "print('max:', x.max())\n",
    "print('min', x.min())\n",
    "print('# positive:', (x > 0).sum())\n",
    "print('# negative', (x < 0).sum())"
   ],
   "outputs": [
    {
     "output_type": "stream",
     "name": "stdout",
     "text": [
      "mean: -9.595343118696381e-05\n",
      "std: 0.10005174306953388\n",
      "max: 0.4967140357750719\n",
      "min -0.49610020749071604\n",
      "# positive: 500126\n",
      "# negative 499874\n"
     ]
    }
   ],
   "metadata": {}
  }
 ],
 "metadata": {
  "orig_nbformat": 4,
  "language_info": {
   "name": "python",
   "version": "3.9.7",
   "mimetype": "text/x-python",
   "codemirror_mode": {
    "name": "ipython",
    "version": 3
   },
   "pygments_lexer": "ipython3",
   "nbconvert_exporter": "python",
   "file_extension": ".py"
  },
  "kernelspec": {
   "name": "python3",
   "display_name": "Python 3.9.7 64-bit ('py3_env': conda)"
  },
  "interpreter": {
   "hash": "6e619cf9ed8fbc59bbc55f5a61c96f81b585c7fe11f424ed088e0267815bc047"
  }
 },
 "nbformat": 4,
 "nbformat_minor": 2
}