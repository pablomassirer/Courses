{
 "cells": [
  {
   "cell_type": "markdown",
   "source": [
    "# Creating Numpy arrays"
   ],
   "metadata": {}
  },
  {
   "cell_type": "code",
   "execution_count": 1,
   "source": [
    "import numpy as np"
   ],
   "outputs": [],
   "metadata": {}
  },
  {
   "cell_type": "markdown",
   "source": [
    "## Example 1.a - Using a 1-D Array of Integers\n",
    "\n",
    "## N-Dimensional array » 1D, Rank 1"
   ],
   "metadata": {}
  },
  {
   "cell_type": "code",
   "execution_count": 15,
   "source": [
    "\n",
    "x = np.array([1, 2, 3, 4, 5])\n",
    "print(\"Array: {}\\nDimensions: {}\\nShape: {}\\nObject of Type: {}\\nElements Type: {}\".format(x, x.ndim, x.shape, type(x), x.dtype))"
   ],
   "outputs": [
    {
     "output_type": "stream",
     "name": "stdout",
     "text": [
      "Array: [1 2 3 4 5]\n",
      "Dimensions: 1\n",
      "Shape: (5,)\n",
      "Object of Type: <class 'numpy.ndarray'>\n",
      "Elements Type: int64\n"
     ]
    }
   ],
   "metadata": {}
  },
  {
   "cell_type": "markdown",
   "source": [
    "## N-Dimensional array » 2D, Rank 2"
   ],
   "metadata": {}
  },
  {
   "cell_type": "code",
   "execution_count": 14,
   "source": [
    "x = np.array([[1, 2], [3, 4], [5, 6]])\n",
    "\n",
    "message = \"Array: \\n{}\\nDimensions: {}\\nShape{}\\nObject of Type: {}\\nElements Type: {}\"\n",
    "print(message.format(x, x.ndim, x.shape, type(x), x.dtype))"
   ],
   "outputs": [
    {
     "output_type": "stream",
     "name": "stdout",
     "text": [
      "Array: \n",
      "[[1 2]\n",
      " [3 4]\n",
      " [5 6]]\n",
      "Dimensions: 2\n",
      "Shape(3, 2)\n",
      "Object of Type: <class 'numpy.ndarray'>\n",
      "Elements Type: int64\n"
     ]
    }
   ],
   "metadata": {}
  },
  {
   "cell_type": "markdown",
   "source": [
    "## Example 1.b - Using 1-D Array of Strings"
   ],
   "metadata": {}
  },
  {
   "cell_type": "code",
   "execution_count": 13,
   "source": [
    "x = np.array([\"Hello\", \"World\"])\n",
    "\n",
    "message = f\"Array: {x}\\nDimensions: {x.ndim}\\nShape: {x.shape}\\nObject of Type: {type(x)}\\nElements Type: {x.dtype}\"\n",
    "print(message)"
   ],
   "outputs": [
    {
     "output_type": "stream",
     "name": "stdout",
     "text": [
      "Array: ['Hello' 'World']\n",
      "Dimensions: 1\n",
      "Shape: (2,)\n",
      "Object of Type: <class 'numpy.ndarray'>\n",
      "Elements Type: <U5\n"
     ]
    }
   ],
   "metadata": {}
  },
  {
   "cell_type": "markdown",
   "source": [
    "## Example 1.c - Using a 1-D Array of Mixed Datatype"
   ],
   "metadata": {}
  },
  {
   "cell_type": "code",
   "execution_count": 16,
   "source": [
    "x = np.array([1, 2, 'Hello World'])\n",
    "\n",
    "message = f\"Array: {x}\\nDimensions: {x.ndim}\\nShape: {x.shape}\\nObject of Type: {type(x)}\\nElements Type: {x.dtype}\"\n",
    "print(message)"
   ],
   "outputs": [
    {
     "output_type": "stream",
     "name": "stdout",
     "text": [
      "Array: ['1' '2' 'Hello World']\n",
      "Dimensions: 1\n",
      "Shape: (3,)\n",
      "Object of Type: <class 'numpy.ndarray'>\n",
      "Elements Type: <U21\n"
     ]
    }
   ],
   "metadata": {}
  },
  {
   "cell_type": "markdown",
   "source": [
    "## Example 1.d - Using a 1-D Array of Int and Float"
   ],
   "metadata": {}
  },
  {
   "cell_type": "code",
   "execution_count": 22,
   "source": [
    "# We create a rank 1 ndarray that contains integers\n",
    "x = np.array([1,2,3])\n",
    "\n",
    "# We create a rank 1 ndarray that contains floats\n",
    "y = np.array([1.0,2.0,3.0])\n",
    "\n",
    "# We create a rank 1 ndarray that contains integers and floats\n",
    "z = np.array([1, 2.5, 4])\n",
    "\n",
    "# Print of the dtype of each ndarray\n",
    "print(f\"Element x: {x}\\nElement y {y}\\nElement {z}\")\n",
    "print(f'The elements in x are of type {x.dtype}\\nThe elements of y are of type {x.dtype}\\nAnd the elements of z are of type {z.dtype}')"
   ],
   "outputs": [
    {
     "output_type": "stream",
     "name": "stdout",
     "text": [
      "Element x: [1 2 3]\n",
      "Element y [1. 2. 3.]\n",
      "Element [1 2 4]\n",
      "The elements in x are of type int64\n",
      "The elements of y are of type int64\n",
      "And the elements of z are of type int64\n"
     ]
    }
   ],
   "metadata": {}
  },
  {
   "cell_type": "markdown",
   "source": [
    "## Example 1.e - Using a 1-D Array of Float, and specifying the datatype of each element as int64"
   ],
   "metadata": {}
  },
  {
   "cell_type": "code",
   "execution_count": 23,
   "source": [
    "# We create a rank 1 ndarray of floats but set the dtype to int64\n",
    "x = np.array([1.5, 2.2, 3.7, 4.0, 5.9], dtype = np.int64)\n",
    "\n",
    "# We print the dtype x\n",
    "print(f'x : {x}')\n",
    "print(f'The elements in x are of type: {x.dtype}')"
   ],
   "outputs": [
    {
     "output_type": "stream",
     "name": "stdout",
     "text": [
      "x : [1 2 3 4 5]\n",
      "The elements in x are of type: int64\n"
     ]
    }
   ],
   "metadata": {}
  },
  {
   "cell_type": "markdown",
   "source": [
    "## Save the NumPy array to a File"
   ],
   "metadata": {}
  },
  {
   "cell_type": "code",
   "execution_count": 4,
   "source": [
    "x = np.array([1, 2, 3, 4, 5, 6])\n",
    "\n",
    "np.save(\"Saved_Arrays/my_array\", x)"
   ],
   "outputs": [],
   "metadata": {}
  },
  {
   "cell_type": "markdown",
   "source": [
    "## Load the Saved Numpy File"
   ],
   "metadata": {}
  },
  {
   "cell_type": "code",
   "execution_count": 5,
   "source": [
    "y = np.load(\"Saved_Arrays/my_array.npy\")\n",
    "\n",
    "print(f\"Array: {y}\\nDimensions: {y.ndim}\\nShape: {y.shape}\\nObject of Type: {type(y)}\\nElements Type: {y.dtype}\")"
   ],
   "outputs": [
    {
     "output_type": "stream",
     "name": "stdout",
     "text": [
      "Array: [1 2 3 4 5 6]\n",
      "Dimensions: 1\n",
      "Shape: (6,)\n",
      "Object of Type: <class 'numpy.ndarray'>\n",
      "Elements Type: int64\n"
     ]
    }
   ],
   "metadata": {}
  }
 ],
 "metadata": {
  "orig_nbformat": 4,
  "language_info": {
   "name": "python",
   "version": "3.9.7",
   "mimetype": "text/x-python",
   "codemirror_mode": {
    "name": "ipython",
    "version": 3
   },
   "pygments_lexer": "ipython3",
   "nbconvert_exporter": "python",
   "file_extension": ".py"
  },
  "kernelspec": {
   "name": "python3",
   "display_name": "Python 3.9.7 64-bit ('py3_env': conda)"
  },
  "interpreter": {
   "hash": "6e619cf9ed8fbc59bbc55f5a61c96f81b585c7fe11f424ed088e0267815bc047"
  }
 },
 "nbformat": 4,
 "nbformat_minor": 2
}