{
 "cells": [
  {
   "cell_type": "markdown",
   "source": [
    "# Python Practice"
   ],
   "metadata": {}
  },
  {
   "cell_type": "code",
   "execution_count": 16,
   "source": [
    "import numpy as np\n",
    "\n",
    "a = np.linspace(1, 30, 6, dtype=int).reshape(2, 3)\n",
    "print(a)"
   ],
   "outputs": [
    {
     "output_type": "stream",
     "name": "stdout",
     "text": [
      "[[ 1  6 12]\n",
      " [18 24 30]]\n"
     ]
    }
   ],
   "metadata": {}
  },
  {
   "cell_type": "code",
   "execution_count": null,
   "source": [],
   "outputs": [],
   "metadata": {}
  }
 ],
 "metadata": {
  "orig_nbformat": 4,
  "language_info": {
   "name": "python",
   "version": "3.9.7",
   "mimetype": "text/x-python",
   "codemirror_mode": {
    "name": "ipython",
    "version": 3
   },
   "pygments_lexer": "ipython3",
   "nbconvert_exporter": "python",
   "file_extension": ".py"
  },
  "kernelspec": {
   "name": "python3",
   "display_name": "Python 3.9.7 64-bit ('py3_env': conda)"
  },
  "interpreter": {
   "hash": "6e619cf9ed8fbc59bbc55f5a61c96f81b585c7fe11f424ed088e0267815bc047"
  }
 },
 "nbformat": 4,
 "nbformat_minor": 2
}