{
 "cells": [
  {
   "cell_type": "markdown",
   "metadata": {},
   "source": [
    "# Python Practice"
   ]
  },
  {
   "cell_type": "code",
   "execution_count": 16,
   "metadata": {},
   "outputs": [
    {
     "name": "stdout",
     "output_type": "stream",
     "text": [
      "[[ 1  6 12]\n",
      " [18 24 30]]\n"
     ]
    }
   ],
   "source": [
    "import numpy as np\n",
    "\n",
    "a = np.linspace(1, 30, 6, dtype=int).reshape(2, 3)\n",
    "print(a)"
   ]
  },
  {
   "cell_type": "code",
   "execution_count": 16,
   "metadata": {},
   "outputs": [
    {
     "name": "stdout",
     "output_type": "stream",
     "text": [
      "['Year', 'Name', 'Department', 'Age', 'Salary']\n",
      "['1990', 'Alice', 'HR', '25', '50000']\n",
      "['1990', 'Bob', 'RD', '30', '48000']\n",
      "['1990', 'Charlie', 'Admin', '45', '55000']\n",
      "['1991', 'Dakota', 'HR', '26', '52000']\n",
      "['1991', 'Elsa', 'RD', '31', '50000']\n",
      "['1991', 'Frank', 'Admin', '46', '60000']\n",
      "['1992', 'Grace', 'Admin', '27', '60000']\n",
      "['1992', 'Hoffman', 'RD', '32', '52000']\n",
      "['1992', 'Inaar', 'Admin', '28', '62000']\n"
     ]
    }
   ],
   "source": [
    "import csv\n",
    "\n",
    "with open(\"./Pandas/fake-company.csv\", \"r\") as csvfile:\n",
    "    file = csv.reader(csvfile, delimiter=\",\")\n",
    "    for content in file:\n",
    "        print(content)"
   ]
  }
 ],
 "metadata": {
  "interpreter": {
   "hash": "f436c983b832220d446bde4c84334e364cff991825629014ea121b967db584cc"
  },
  "kernelspec": {
   "display_name": "Python 3.9.7 64-bit ('py3_env': conda)",
   "name": "python3"
  },
  "language_info": {
   "codemirror_mode": {
    "name": "ipython",
    "version": 3
   },
   "file_extension": ".py",
   "mimetype": "text/x-python",
   "name": "python",
   "nbconvert_exporter": "python",
   "pygments_lexer": "ipython3",
   "version": "3.9.7"
  },
  "orig_nbformat": 4
 },
 "nbformat": 4,
 "nbformat_minor": 2
}
